{
 "cells": [
  {
   "cell_type": "code",
   "execution_count": 6,
   "metadata": {},
   "outputs": [],
   "source": []
  },
  {
   "cell_type": "code",
   "execution_count": 28,
   "metadata": {},
   "outputs": [],
   "source": [
    "def writeOutputToFile(obj, fileName):\n",
    "    import csv\n",
    "    with open(fileName, 'w') as out:\n",
    "        csv_out = csv.writer(out)\n",
    "        csv_out.writerow(['header_col1','header_col2','header_col3'])\n",
    "        for l in obj:\n",
    "            csv_out.writerow(l)\n",
    "    return"
   ]
  },
  {
   "cell_type": "code",
   "execution_count": 29,
   "metadata": {},
   "outputs": [],
   "source": [
    "def writeToMapFile(fileName, mConfig, mapFileName='file_models_config_map.csv'):\n",
    "    import os\n",
    "    if os.path.exists(mapFileName):\n",
    "        append_write = 'a' # append if already exists\n",
    "    else:\n",
    "        append_write = 'w' # make a new file if not\n",
    "\n",
    "    f = open(mapFileName,append_write)\n",
    "    f.write(fileName + ',' + mConfig + '\\n')\n",
    "    f.close()\n",
    "    return"
   ]
  },
  {
   "cell_type": "code",
   "execution_count": 30,
   "metadata": {},
   "outputs": [],
   "source": [
    "from datetime import datetime\n",
    "\n",
    "chrom = 14\n",
    "file_name = 'chrom_' + str(chrom) + '__' + datetime.now().strftime(\"%Y_%m_%d-%H:%M:%S\") \n",
    "models_config = 'some_configuration1,some_configuration2,some_configuration3'\n",
    "map_file_name = 'file_models_config_map.csv'\n",
    "models_out = [['a11','a12','a13'], ['a21','a22','a23']]\n",
    "\n",
    "writeOutputToFile(models_out, file_name)\n",
    "writeToMapFile(file_name, models_config, map_file_name)"
   ]
  },
  {
   "cell_type": "code",
   "execution_count": 24,
   "metadata": {},
   "outputs": [],
   "source": []
  },
  {
   "cell_type": "code",
   "execution_count": 25,
   "metadata": {},
   "outputs": [],
   "source": []
  },
  {
   "cell_type": "code",
   "execution_count": 26,
   "metadata": {},
   "outputs": [],
   "source": [
    "\n"
   ]
  },
  {
   "cell_type": "code",
   "execution_count": null,
   "metadata": {},
   "outputs": [],
   "source": []
  }
 ],
 "metadata": {
  "kernelspec": {
   "display_name": "Python 3",
   "language": "python",
   "name": "python3"
  },
  "language_info": {
   "codemirror_mode": {
    "name": "ipython",
    "version": 3
   },
   "file_extension": ".py",
   "mimetype": "text/x-python",
   "name": "python",
   "nbconvert_exporter": "python",
   "pygments_lexer": "ipython3",
   "version": "3.6.5"
  }
 },
 "nbformat": 4,
 "nbformat_minor": 2
}
